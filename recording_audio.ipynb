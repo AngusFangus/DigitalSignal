{
 "cells": [
  {
   "cell_type": "markdown",
   "metadata": {},
   "source": [
    "## AUDIO RECORDING"
   ]
  },
  {
   "cell_type": "code",
   "execution_count": null,
   "metadata": {},
   "outputs": [],
   "source": [
    "import sounddevice as sd\n",
    "from scipy.io import wavfile as wav #import write"
   ]
  },
  {
   "cell_type": "code",
   "execution_count": null,
   "metadata": {},
   "outputs": [],
   "source": [
    "#registrare e salvare su file waw \n",
    "\n",
    "fs      = 44100 # Sample rate\n",
    "seconds = 3     # Duration of recording\n",
    "who = 'marco'   # 'LIVIA','rob', 'chris' da cambiare in base a chi registra e sarà la label\n",
    "num = 60        #numero dei file da registrare\n",
    "\n",
    "for i in range(num):\n",
    "    #print(\"registrazione numero {:>02} iniziata\".format(i))\n",
    "    \n",
    "    myrecording = sd.rec(int(seconds * fs), samplerate=fs, channels=1)\n",
    "    sd.wait()  # Wait until recording is finished\n",
    "    wav.write('./recordings/'+who+'_output_micro_{:>03}.wav'.format(i), fs, myrecording)  # Save as WAV file \n",
    "    \n",
    "    #write('./recordings/'+who+'output_'+str(i+1)+'.wav', fs, myrecording)  # Save as WAV file (se non uso il microfono)\n",
    "    if i==max(range(num)):\n",
    "        print(\"registrazione finita\")"
   ]
  },
  {
   "cell_type": "markdown",
   "metadata": {},
   "source": [
    "## IMMAGE DETECTION"
   ]
  },
  {
   "cell_type": "code",
   "execution_count": null,
   "metadata": {},
   "outputs": [],
   "source": []
  },
  {
   "cell_type": "code",
   "execution_count": null,
   "metadata": {},
   "outputs": [],
   "source": []
  }
 ],
 "metadata": {
  "kernelspec": {
   "display_name": "Python 3",
   "language": "python",
   "name": "python3"
  },
  "language_info": {
   "codemirror_mode": {
    "name": "ipython",
    "version": 3
   },
   "file_extension": ".py",
   "mimetype": "text/x-python",
   "name": "python",
   "nbconvert_exporter": "python",
   "pygments_lexer": "ipython3",
   "version": "3.6.9"
  }
 },
 "nbformat": 4,
 "nbformat_minor": 2
}
