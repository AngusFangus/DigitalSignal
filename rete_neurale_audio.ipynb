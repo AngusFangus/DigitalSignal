{
  "nbformat": 4,
  "nbformat_minor": 0,
  "metadata": {
    "kernelspec": {
      "display_name": "Python 3",
      "language": "python",
      "name": "python3"
    },
    "language_info": {
      "codemirror_mode": {
        "name": "ipython",
        "version": 3
      },
      "file_extension": ".py",
      "mimetype": "text/x-python",
      "name": "python",
      "nbconvert_exporter": "python",
      "pygments_lexer": "ipython3",
      "version": "3.6.9"
    },
    "colab": {
      "name": "rete_neurale_audio.ipynb",
      "provenance": []
    }
  },
  "cells": [
    {
      "cell_type": "markdown",
      "metadata": {
        "id": "efGycprjje8m",
        "colab_type": "text"
      },
      "source": [
        "## MODEL"
      ]
    },
    {
      "cell_type": "code",
      "metadata": {
        "id": "vLmbPsGLBBVn",
        "colab_type": "code",
        "colab": {
          "base_uri": "https://localhost:8080/",
          "height": 263
        },
        "outputId": "71f97020-1f03-4c46-915c-863c1f60dabd"
      },
      "source": [
        "!pip install scikit-learn --upgrade"
      ],
      "execution_count": 1,
      "outputs": [
        {
          "output_type": "stream",
          "text": [
            "Collecting scikit-learn\n",
            "\u001b[?25l  Downloading https://files.pythonhosted.org/packages/5c/a1/273def87037a7fb010512bbc5901c31cfddfca8080bc63b42b26e3cc55b3/scikit_learn-0.23.2-cp36-cp36m-manylinux1_x86_64.whl (6.8MB)\n",
            "\u001b[K     |████████████████████████████████| 6.8MB 2.5MB/s \n",
            "\u001b[?25hRequirement already satisfied, skipping upgrade: scipy>=0.19.1 in /usr/local/lib/python3.6/dist-packages (from scikit-learn) (1.4.1)\n",
            "Requirement already satisfied, skipping upgrade: joblib>=0.11 in /usr/local/lib/python3.6/dist-packages (from scikit-learn) (0.16.0)\n",
            "Requirement already satisfied, skipping upgrade: numpy>=1.13.3 in /usr/local/lib/python3.6/dist-packages (from scikit-learn) (1.18.5)\n",
            "Collecting threadpoolctl>=2.0.0\n",
            "  Downloading https://files.pythonhosted.org/packages/f7/12/ec3f2e203afa394a149911729357aa48affc59c20e2c1c8297a60f33f133/threadpoolctl-2.1.0-py3-none-any.whl\n",
            "Installing collected packages: threadpoolctl, scikit-learn\n",
            "  Found existing installation: scikit-learn 0.22.2.post1\n",
            "    Uninstalling scikit-learn-0.22.2.post1:\n",
            "      Successfully uninstalled scikit-learn-0.22.2.post1\n",
            "Successfully installed scikit-learn-0.23.2 threadpoolctl-2.1.0\n"
          ],
          "name": "stdout"
        }
      ]
    },
    {
      "cell_type": "code",
      "metadata": {
        "id": "7ltLIpuDjwOO",
        "colab_type": "code",
        "colab": {
          "base_uri": "https://localhost:8080/",
          "height": 124
        },
        "outputId": "56d896ad-ebd1-432d-a89c-430bb89a0b5e"
      },
      "source": [
        "from google.colab import drive\n",
        "drive.mount('/content/drive/')\n",
        "\n",
        "dir_drive = \"/content/drive/My Drive/DSIM/data/\"\n",
        "dir_drive_model = \"/content/drive/My Drive/DSIM/model/\""
      ],
      "execution_count": 2,
      "outputs": [
        {
          "output_type": "stream",
          "text": [
            "Go to this URL in a browser: https://accounts.google.com/o/oauth2/auth?client_id=947318989803-6bn6qk8qdgf4n4g3pfee6491hc0brc4i.apps.googleusercontent.com&redirect_uri=urn%3aietf%3awg%3aoauth%3a2.0%3aoob&scope=email%20https%3a%2f%2fwww.googleapis.com%2fauth%2fdocs.test%20https%3a%2f%2fwww.googleapis.com%2fauth%2fdrive%20https%3a%2f%2fwww.googleapis.com%2fauth%2fdrive.photos.readonly%20https%3a%2f%2fwww.googleapis.com%2fauth%2fpeopleapi.readonly&response_type=code\n",
            "\n",
            "Enter your authorization code:\n",
            "··········\n",
            "Mounted at /content/drive/\n"
          ],
          "name": "stdout"
        }
      ]
    },
    {
      "cell_type": "code",
      "metadata": {
        "id": "AQPBRg2Vje8x",
        "colab_type": "code",
        "colab": {}
      },
      "source": [
        "import os\n",
        "import numpy as np\n",
        "from time import time\n",
        "\n",
        "from scipy.io import wavfile as wav #import write\n",
        "import librosa\n",
        "import joblib #per salvare modelli svm\n",
        "\n",
        "# Strumenti di classificazione\n",
        "#from sklearn.preprocessing import scale\n",
        "from sklearn.svm import SVC\n",
        "from sklearn.model_selection import train_test_split, GridSearchCV\n",
        "from sklearn.metrics import classification_report, confusion_matrix"
      ],
      "execution_count": 3,
      "outputs": []
    },
    {
      "cell_type": "code",
      "metadata": {
        "id": "EVJy993IkSLj",
        "colab_type": "code",
        "colab": {}
      },
      "source": [
        "fs = 44000\n",
        "n_mfcc = 15 \n",
        "sampling_rate=44000 "
      ],
      "execution_count": 4,
      "outputs": []
    },
    {
      "cell_type": "code",
      "metadata": {
        "id": "E6ZfXSD8je9n",
        "colab_type": "code",
        "colab": {}
      },
      "source": [
        "# Segnaposto per feature extractor\n",
        "def identity(input):  \n",
        "    return input\n",
        "\n",
        "def sdev(input):\n",
        "    return np.std(input, keepdims=True)\n",
        "def energy(input):\n",
        "    return np.sum((input*1.0)**2, keepdims=True)\n",
        "def spec_centroid(input):\n",
        "    return librosa.feature.spectral_centroid(input)\n",
        "def zcr(input):\n",
        "    return np.mean(librosa.feature.zero_crossing_rate(input))\n",
        "\n",
        "def mfcc(input, rate = fs, normalization = True):\n",
        "    # Calcola coefficienti MFCC\n",
        "    mfcc = np.mean(librosa.feature.mfcc(input, sr=rate, n_mfcc=15).T, axis=0)\n",
        "    \n",
        "    #mfcc = librosa.feature.mfcc(input, sr=rate, n_mfcc=15)\n",
        "    #mfcc = scale(mfcc, axis=1)\n",
        "    return mfcc\n",
        "\n",
        "def combo(input):\n",
        "    return np.concatenate((sdev(input), energy(input), mfcc(input)))"
      ],
      "execution_count": 5,
      "outputs": []
    },
    {
      "cell_type": "code",
      "metadata": {
        "id": "7o0U6aknfFtu",
        "colab_type": "code",
        "colab": {}
      },
      "source": [
        "#misure non aggregate, per la rete ricorsiva \n",
        "\n",
        "def extr_feat(sound_clip):\n",
        "  # Mel Frequency Cepstral Coefficents\n",
        "  mfcc = librosa.feature.mfcc(y=sound_clip, sr=sampling_rate,n_mfcc=n_mfcc)\n",
        "            \n",
        "  # MFCC deltas\n",
        "  mfcc_delta = librosa.feature.delta(mfcc)\n",
        "  \n",
        "  # MFCC double deltas\n",
        "  mfcc_delta2 = librosa.feature.delta(mfcc, order=2)\n",
        "  \n",
        "  mel_spectogram = librosa.feature.melspectrogram(y=sound_clip, sr=sampling_rate)\n",
        "  # Root Mean Square Energy\n",
        "  rmse = librosa.feature.rmse(S=mel_spectogram)\n",
        "  \n",
        "  mfcc = np.asarray(mfcc)\n",
        "  mfcc_delta = np.asarray(mfcc_delta)\n",
        "  mfcc_delta2 = np.asarray(mfcc_delta2)\n",
        "  rmse = np.asarray(rmse)\n",
        "\n",
        "  feature = np.concatenate((mfcc, mfcc_delta, mfcc_delta2, rmse), axis=0).T\n",
        "  feature = np.asarray(feature)\n",
        "  \n",
        "  return feature"
      ],
      "execution_count": 6,
      "outputs": []
    },
    {
      "cell_type": "code",
      "metadata": {
        "id": "cbRy7jtgje-D",
        "colab_type": "code",
        "colab": {}
      },
      "source": [
        "# Data loader\n",
        "def load_data(feature_extractor=identity, normalize=False, test_size=0.1):\n",
        "    labels = []\n",
        "    features = []\n",
        "    for f in sorted(os.listdir(dir_drive)):\n",
        "        if f.endswith('.wav'):\n",
        "            \n",
        "            # Carica file ed estraine le features\n",
        "            _, signal = wav.read(dir_drive + f)\n",
        "            cur_features = feature_extractor(signal)\n",
        "            features.append(cur_features)\n",
        "            \n",
        "            # Categorie\n",
        "            label = f.split('_')[0]\n",
        "            labels.append(label)\n",
        "            \n",
        "    # X: features, y: labels\n",
        "    X_train, X_test, y_train, y_test = train_test_split(features, labels, test_size=test_size, random_state=1)\n",
        "\n",
        "    if normalize:\n",
        "        eps = 0.001\n",
        "        X_train = np.array(X_train)\n",
        "        X_train_mean = X_train.mean(axis=0)\n",
        "        X_train_std = X_train.std(axis=0)\n",
        "        X_train = (X_train - X_train_mean + eps)/(X_train_std + eps)\n",
        "        X_train = [row for row in X_train]\n",
        "        X_test = [row for row in (np.array(X_test) - X_train_mean + eps)/(X_train_std + eps)]\n",
        "        result = np.array(X_train), np.array(X_test), np.array(y_train), np.array(y_test), X_train_mean, X_train_std\n",
        "    else:\n",
        "        result = np.array(X_train), np.array(X_test), np.array(y_train), np.array(y_test)\n",
        "    return result\n",
        "# Main\n",
        "if __name__ == '__main__':\n",
        "\tX_train, X_test, y_train, y_test = load_data()"
      ],
      "execution_count": 7,
      "outputs": []
    },
    {
      "cell_type": "code",
      "metadata": {
        "id": "n7mg8xepje-e",
        "colab_type": "code",
        "colab": {}
      },
      "source": [
        "X_train, X_test, y_train, y_test = load_data(feature_extractor = mfcc, normalize = False, test_size=0.2)\n",
        "X_train_n, X_test_n, y_train_n, y_test_n, mean_train, std_train = load_data(feature_extractor = mfcc, normalize = True, test_size=0.2)\n",
        "\n",
        "X_train_c, X_test_c, y_train_c, y_test_c = load_data(feature_extractor = combo, normalize = False, test_size=0.2)\n",
        "X_train_cn, X_test_cn, y_train_cn, y_test_cn, mean_c, std_c = load_data(feature_extractor = combo, normalize = True, test_size=0.2)\n",
        "\n",
        "X_train_en, X_test_en, y_train_en, y_test_en, mean_e, std_e = load_data(feature_extractor = extr_feat, normalize = True, test_size=0.2)\n",
        "X_train_en, X_val_en, y_train_en, y_val_en = train_test_split(X_train, y_train, test_size=0.2, random_state=1)"
      ],
      "execution_count": 8,
      "outputs": []
    },
    {
      "cell_type": "markdown",
      "metadata": {
        "id": "ETPTcc5lbsRS",
        "colab_type": "text"
      },
      "source": [
        "# SVM"
      ]
    },
    {
      "cell_type": "code",
      "metadata": {
        "id": "-KxK3roeje-w",
        "colab_type": "code",
        "colab": {
          "base_uri": "https://localhost:8080/",
          "height": 851
        },
        "outputId": "67b109d5-6856-43ae-822c-dfad64d1861e"
      },
      "source": [
        "svm_estimator    = SVC(kernel = 'rbf', class_weight= 'balanced')\n",
        "svm_estimator_n  = SVC(kernel = 'rbf', class_weight= 'balanced')\n",
        "svm_estimator_c  = SVC(kernel = 'rbf', class_weight= 'balanced')\n",
        "svm_estimator_cn = SVC(kernel = 'rbf', class_weight= 'balanced')\n",
        "\n",
        "dataset_name1 = 'not_normalize_mfcc'\n",
        "dataset_name2 = 'normalize_mfcc'\n",
        "dataset_name3 = 'combo'\n",
        "dataset_name4 = 'combo_normalize'\n",
        "\n",
        "try:\n",
        "    svm_estimator = joblib.load(\"/model/%s.pkl\"%dataset_name1)\n",
        "    print(\"using trained model\")\n",
        "except:\n",
        "    print('building new model')\n",
        "    svm_estimator.fit(X_train, y_train)\n",
        "    joblib.dump(svm_estimator,dir_drive+\"/model/%s.pkl\"%dataset_name1)\n",
        "    \n",
        "try:\n",
        "    svm_estimator_n = joblib.load(\"/model/%s.pkl\"%dataset_name2)\n",
        "    print(\"using trained model\")\n",
        "except:\n",
        "    print('building new model')\n",
        "    svm_estimator_n.fit(X_train_n, y_train_n)\n",
        "    joblib.dump(svm_estimator_n,dir_drive+\"/model/%s.pkl\"%dataset_name2)\n",
        "\n",
        "try:\n",
        "    svm_estimator_c = joblib.load(\"/models/%s.pkl\"%dataset_name3)\n",
        "    print(\"using trained model\")\n",
        "except:\n",
        "    print('building new model')\n",
        "    svm_estimator_c.fit(X_train_c, y_train_c)\n",
        "    joblib.dump(svm_estimator_c,dir_drive+\"/model/%s.pkl\"%dataset_name3)\n",
        "\n",
        "try:\n",
        "    svm_estimator_cn = joblib.load(\"/models/%s.pkl\"%dataset_name4)\n",
        "    print(\"using trained model\")\n",
        "except:\n",
        "    print('building new model')\n",
        "    svm_estimator_cn.fit(X_train_cn, y_train_cn)\n",
        "    joblib.dump(svm_estimator_c,dir_drive+\"/model/%s.pkl\"%dataset_name4)\n",
        "\n",
        "\n",
        "print('mfcc')\n",
        "y_pred = svm_estimator.predict(X_test)\n",
        "print(classification_report(y_test, y_pred))\n",
        "\n",
        "print('mfcc normalize')\n",
        "y_pred_n = svm_estimator_n.predict(X_test_n)\n",
        "print(classification_report(y_test_n, y_pred_n))\n",
        "\n",
        "print('combo')\n",
        "y_pred_c = svm_estimator_c.predict(X_test_c)\n",
        "print(classification_report(y_test_c, y_pred_c))\n",
        "\n",
        "print('combo normalize')\n",
        "y_pred_combo_n = svm_estimator_cn.predict(X_test_cn)\n",
        "print(classification_report(y_test_cn, y_pred_combo_n))\n",
        "\n",
        "#clf = SVC(kernel = 'rbf', class_weight= 'balanced')\n",
        "#clf = clf.fit(X_train, y_train)\n",
        "#y_pred = clf.predict(X_test)"
      ],
      "execution_count": 10,
      "outputs": [
        {
          "output_type": "stream",
          "text": [
            "building new model\n",
            "building new model\n",
            "building new model\n",
            "building new model\n",
            "mfcc\n",
            "              precision    recall  f1-score   support\n",
            "\n",
            "       LIVIA       1.00      0.79      0.88        28\n",
            "       chris       1.00      1.00      1.00        11\n",
            "         rob       0.78      1.00      0.88        21\n",
            "\n",
            "    accuracy                           0.90        60\n",
            "   macro avg       0.93      0.93      0.92        60\n",
            "weighted avg       0.92      0.90      0.90        60\n",
            "\n",
            "mfcc normalize\n",
            "              precision    recall  f1-score   support\n",
            "\n",
            "       LIVIA       0.96      0.93      0.95        28\n",
            "       chris       1.00      1.00      1.00        11\n",
            "         rob       0.91      0.95      0.93        21\n",
            "\n",
            "    accuracy                           0.95        60\n",
            "   macro avg       0.96      0.96      0.96        60\n",
            "weighted avg       0.95      0.95      0.95        60\n",
            "\n",
            "combo\n",
            "              precision    recall  f1-score   support\n",
            "\n",
            "       LIVIA       1.00      0.54      0.70        28\n",
            "       chris       1.00      1.00      1.00        11\n",
            "         rob       0.62      1.00      0.76        21\n",
            "\n",
            "    accuracy                           0.78        60\n",
            "   macro avg       0.87      0.85      0.82        60\n",
            "weighted avg       0.87      0.78      0.78        60\n",
            "\n",
            "combo normalize\n",
            "              precision    recall  f1-score   support\n",
            "\n",
            "       LIVIA       0.96      0.93      0.95        28\n",
            "       chris       1.00      1.00      1.00        11\n",
            "         rob       0.91      0.95      0.93        21\n",
            "\n",
            "    accuracy                           0.95        60\n",
            "   macro avg       0.96      0.96      0.96        60\n",
            "weighted avg       0.95      0.95      0.95        60\n",
            "\n"
          ],
          "name": "stdout"
        }
      ]
    },
    {
      "cell_type": "markdown",
      "metadata": {
        "id": "ORDVgEWIUOUE",
        "colab_type": "text"
      },
      "source": [
        "# NN"
      ]
    },
    {
      "cell_type": "code",
      "metadata": {
        "id": "bPGtFrPCfM9m",
        "colab_type": "code",
        "colab": {
          "base_uri": "https://localhost:8080/",
          "height": 245
        },
        "outputId": "215a7869-706e-4f80-d609-c478fc3caf49"
      },
      "source": [
        "!pip install tqdm --upgrade\n",
        "!pip install -U tensorflow-addons\n",
        "!pip install parameter-sherpa"
      ],
      "execution_count": 10,
      "outputs": [
        {
          "output_type": "stream",
          "text": [
            "Collecting tqdm\n",
            "  Using cached https://files.pythonhosted.org/packages/28/7e/281edb5bc3274dfb894d90f4dbacfceaca381c2435ec6187a2c6f329aed7/tqdm-4.48.2-py2.py3-none-any.whl\n",
            "Installing collected packages: tqdm\n",
            "Successfully installed tqdm-4.48.2\n",
            "Collecting tensorflow-addons\n",
            "  Using cached https://files.pythonhosted.org/packages/b3/f8/d6fca180c123f2851035c4493690662ebdad0849a9059d56035434bff5c9/tensorflow_addons-0.11.2-cp36-cp36m-manylinux2010_x86_64.whl\n",
            "Requirement already satisfied, skipping upgrade: typeguard>=2.7 in /usr/local/lib/python3.6/dist-packages (from tensorflow-addons) (2.7.1)\n",
            "Installing collected packages: tensorflow-addons\n",
            "  Found existing installation: tensorflow-addons 0.8.3\n",
            "    Uninstalling tensorflow-addons-0.8.3:\n",
            "      Successfully uninstalled tensorflow-addons-0.8.3\n",
            "Successfully installed tensorflow-addons-0.11.2\n"
          ],
          "name": "stdout"
        }
      ]
    },
    {
      "cell_type": "code",
      "metadata": {
        "id": "k0hvZY4HWnCW",
        "colab_type": "code",
        "colab": {}
      },
      "source": [
        "#keras for modeling\n",
        "%tensorflow_version 2.x\n",
        "import tensorflow as tf\n",
        "from tensorflow.keras            import Sequential, optimizers, regularizers\n",
        "from tensorflow.keras.models     import Model\n",
        "from tensorflow.keras.optimizers import Adam\n",
        "from tensorflow.keras.utils      import to_categorical\n",
        "from tensorflow.keras.layers     import Dense, Dropout, LSTM, Input, Flatten\n",
        "from tensorflow.keras.losses     import categorical_crossentropy\n",
        "from tensorflow.keras.callbacks  import EarlyStopping\n",
        "\n",
        "#plot\n",
        "%matplotlib inline\n",
        "import matplotlib.pyplot as plt\n",
        "\n",
        "#utili\n",
        "import sherpa                     # AutoML\n",
        "import pandas as pd\n",
        "import time\n",
        "from sklearn import preprocessing # encoder label"
      ],
      "execution_count": 11,
      "outputs": []
    },
    {
      "cell_type": "code",
      "metadata": {
        "id": "swl8wUFpxaLV",
        "colab_type": "code",
        "colab": {}
      },
      "source": [
        "import tensorflow_addons as tfa\n",
        "import tqdm\n",
        "\n",
        "tqdm_callback = tfa.callbacks.TQDMProgressBar(    \n",
        "    leave_epoch_progress   = True,\n",
        "    leave_overall_progress = True,\n",
        "    show_epoch_progress    = False,\n",
        "    show_overall_progress  = True\n",
        ")"
      ],
      "execution_count": 12,
      "outputs": []
    },
    {
      "cell_type": "code",
      "metadata": {
        "id": "Hj9pQddxpoqt",
        "colab_type": "code",
        "colab": {}
      },
      "source": [
        "def plot_history(network_history, metrics, val=False):\n",
        "    plt.figure()\n",
        "    plt.xlabel('Epochs')\n",
        "    plt.ylabel('Loss')\n",
        "    plt.plot(network_history.history['loss'])\n",
        "    if val:\n",
        "      plt.plot(network_history.history['val_loss'])\n",
        "    plt.legend(['Training', 'Validation'])\n",
        "\n",
        "    plt.figure()\n",
        "    plt.xlabel('Epochs')\n",
        "    plt.ylabel(metrics)\n",
        "    plt.plot(network_history.history[metrics])\n",
        "    if val:\n",
        "      plt.plot(network_history.history['val_'+metrics])\n",
        "    plt.legend(['Training', 'Validation'], loc='lower right')\n",
        "    plt.show()"
      ],
      "execution_count": 13,
      "outputs": []
    },
    {
      "cell_type": "code",
      "metadata": {
        "id": "8iv2jffmLUBx",
        "colab_type": "code",
        "colab": {
          "base_uri": "https://localhost:8080/",
          "height": 34
        },
        "outputId": "6be101ac-48ca-45f3-da9e-92f4c198cd3e"
      },
      "source": [
        "le = preprocessing.LabelEncoder()\n",
        "le.fit(y_train)\n",
        "#list(le.classes_)\n",
        "#print(le.transform(y_train))\n",
        "#le.inverse_transform(le.transform(y_train))"
      ],
      "execution_count": 18,
      "outputs": [
        {
          "output_type": "execute_result",
          "data": {
            "text/plain": [
              "LabelEncoder()"
            ]
          },
          "metadata": {
            "tags": []
          },
          "execution_count": 18
        }
      ]
    },
    {
      "cell_type": "code",
      "metadata": {
        "id": "b_KNBHrgURqW",
        "colab_type": "code",
        "colab": {}
      },
      "source": [
        "Y_train = to_categorical(le.transform(y_train),3)\n",
        "Y_val   = to_categorical(le.transform(y_val),3)\n",
        "Y_test  = to_categorical(le.transform(y_test),3)"
      ],
      "execution_count": null,
      "outputs": []
    },
    {
      "cell_type": "code",
      "metadata": {
        "id": "fvixz7qbYN_m",
        "colab_type": "code",
        "colab": {}
      },
      "source": [
        "model = Sequential([\n",
        "              Dense(32,activation='relu',\n",
        "                    input_shape = (17,)),\n",
        "              Dropout(0.2),\n",
        "              Dense(64,activation='relu',\n",
        "                    input_shape = (17,)),\n",
        "              Dropout(0.2),\n",
        "              Dense(3,activation='softmax'),\n",
        "          ])\n",
        "\n",
        "model.compile(loss = 'categorical_crossentropy',\n",
        "              optimizer = Adam(),\n",
        "              metrics = ['accuracy'])\n",
        "model.summary()"
      ],
      "execution_count": null,
      "outputs": []
    },
    {
      "cell_type": "code",
      "metadata": {
        "id": "qMydmauGmP1r",
        "colab_type": "code",
        "colab": {}
      },
      "source": [
        "early_stop = EarlyStopping(\n",
        "    monitor='val_loss',\n",
        "    patience=15)"
      ],
      "execution_count": null,
      "outputs": []
    },
    {
      "cell_type": "code",
      "metadata": {
        "id": "Sm4C0vbOmVe9",
        "colab_type": "code",
        "colab": {}
      },
      "source": [
        "history = model.fit(\n",
        "    X_train, Y_train, #batch_size=16,\n",
        "    validation_data = (X_val, Y_val),\n",
        "    epochs=300, verbose=0, callbacks=[tqdm_callback, early_stop]) \n",
        "#[best_model, early_stop]) "
      ],
      "execution_count": null,
      "outputs": []
    },
    {
      "cell_type": "code",
      "metadata": {
        "id": "UOf4KqGOC4jt",
        "colab_type": "code",
        "colab": {}
      },
      "source": [
        "plot_history(history, 'accuracy', val = True)"
      ],
      "execution_count": null,
      "outputs": []
    },
    {
      "cell_type": "code",
      "metadata": {
        "id": "jU7LmS93o7qP",
        "colab_type": "code",
        "colab": {
          "base_uri": "https://localhost:8080/",
          "height": 220
        },
        "outputId": "2111f2c3-197c-4ba8-c1b4-b297593db49d"
      },
      "source": [
        "y_pred = np.argmax(model.predict(X_test), axis=-1)\n",
        "# Report di classificazione\n",
        "print(\"Report di classificazione modello:\")\n",
        "print(classification_report(y_test, le.inverse_transform(y_pred)))"
      ],
      "execution_count": 19,
      "outputs": [
        {
          "output_type": "error",
          "ename": "NameError",
          "evalue": "ignored",
          "traceback": [
            "\u001b[0;31m---------------------------------------------------------------------------\u001b[0m",
            "\u001b[0;31mNameError\u001b[0m                                 Traceback (most recent call last)",
            "\u001b[0;32m<ipython-input-19-296e3b44f640>\u001b[0m in \u001b[0;36m<module>\u001b[0;34m()\u001b[0m\n\u001b[0;32m----> 1\u001b[0;31m \u001b[0my_pred\u001b[0m \u001b[0;34m=\u001b[0m \u001b[0mnp\u001b[0m\u001b[0;34m.\u001b[0m\u001b[0margmax\u001b[0m\u001b[0;34m(\u001b[0m\u001b[0mmodel\u001b[0m\u001b[0;34m.\u001b[0m\u001b[0mpredict\u001b[0m\u001b[0;34m(\u001b[0m\u001b[0mX_test\u001b[0m\u001b[0;34m)\u001b[0m\u001b[0;34m,\u001b[0m \u001b[0maxis\u001b[0m\u001b[0;34m=\u001b[0m\u001b[0;34m-\u001b[0m\u001b[0;36m1\u001b[0m\u001b[0;34m)\u001b[0m\u001b[0;34m\u001b[0m\u001b[0;34m\u001b[0m\u001b[0m\n\u001b[0m\u001b[1;32m      2\u001b[0m \u001b[0;31m# Report di classificazione\u001b[0m\u001b[0;34m\u001b[0m\u001b[0;34m\u001b[0m\u001b[0;34m\u001b[0m\u001b[0m\n\u001b[1;32m      3\u001b[0m \u001b[0mprint\u001b[0m\u001b[0;34m(\u001b[0m\u001b[0;34m\"Report di classificazione modello:\"\u001b[0m\u001b[0;34m)\u001b[0m\u001b[0;34m\u001b[0m\u001b[0;34m\u001b[0m\u001b[0m\n\u001b[1;32m      4\u001b[0m \u001b[0mprint\u001b[0m\u001b[0;34m(\u001b[0m\u001b[0mclassification_report\u001b[0m\u001b[0;34m(\u001b[0m\u001b[0my_test\u001b[0m\u001b[0;34m,\u001b[0m \u001b[0mle\u001b[0m\u001b[0;34m.\u001b[0m\u001b[0minverse_transform\u001b[0m\u001b[0;34m(\u001b[0m\u001b[0my_pred\u001b[0m\u001b[0;34m)\u001b[0m\u001b[0;34m)\u001b[0m\u001b[0;34m)\u001b[0m\u001b[0;34m\u001b[0m\u001b[0;34m\u001b[0m\u001b[0m\n",
            "\u001b[0;31mNameError\u001b[0m: name 'model' is not defined"
          ]
        }
      ]
    },
    {
      "cell_type": "code",
      "metadata": {
        "id": "AfVo0nU2ph0q",
        "colab_type": "code",
        "colab": {}
      },
      "source": [
        "# Matrice di confusione\n",
        "print(\"Matrice di confusione modello:\")\n",
        "labels = ['Livia', 'chirs', 'rob']\n",
        "cm = confusion_matrix(y_test, le.inverse_transform(y_pred))\n",
        "print(cm)\n",
        "fig = plt.figure()\n",
        "ax = fig.add_subplot(111)\n",
        "cax = ax.matshow(cm, cmap=plt.cm.Blues)\n",
        "plt.title('Confusion matrix of the classifier')\n",
        "fig.colorbar(cax)\n",
        "ax.set_xticklabels([''] + labels)\n",
        "ax.set_yticklabels([''] + labels)\n",
        "plt.xlabel('Predicted')\n",
        "plt.ylabel('True')\n",
        "plt.imshow(cm, cmap=plt.cm.Blues)"
      ],
      "execution_count": null,
      "outputs": []
    },
    {
      "cell_type": "code",
      "metadata": {
        "id": "-pOa2hIVsQQQ",
        "colab_type": "code",
        "colab": {}
      },
      "source": [
        "Y_train_en = to_categorical(le.transform(y_train_en),3)\n",
        "Y_val_en   = to_categorical(le.transform(y_val_en),3)\n",
        "Y_test_en  = to_categorical(le.transform(y_test_en),3)"
      ],
      "execution_count": 20,
      "outputs": []
    },
    {
      "cell_type": "code",
      "metadata": {
        "id": "-q27tNBYr45K",
        "colab_type": "code",
        "colab": {}
      },
      "source": [
        "X_train_en.shape"
      ],
      "execution_count": null,
      "outputs": []
    },
    {
      "cell_type": "code",
      "metadata": {
        "id": "-s5btgOkrVJZ",
        "colab_type": "code",
        "colab": {}
      },
      "source": [
        "regressor = Sequential()\n",
        "\n",
        "regressor.add(LSTM(units = 50, return_sequences = True, input_shape = (X_train_en.shape[1],X_train_en.shape[2])))\n",
        "regressor.add(Dropout(0.2))\n",
        "\n",
        "regressor.add(LSTM(units = 50, return_sequences = True))\n",
        "regressor.add(Dropout(0.2))\n",
        "regressor.add(Flatten())\n",
        "regressor.add(Dense(units=3, activation='softmax'))\n",
        "\n",
        "regressor.compile(loss='categorical_crossentropy', optimizer='adam', metrics=['categorical_accuracy'])\n",
        "regressor.summary()"
      ],
      "execution_count": null,
      "outputs": []
    },
    {
      "cell_type": "code",
      "metadata": {
        "id": "kbLsFFG_zirJ",
        "colab_type": "code",
        "colab": {}
      },
      "source": [
        "history2 = regressor.fit(X_train_en, Y_train_en, \n",
        "    validation_data = (X_val_en, Y_val_en),\n",
        "    epochs=100, verbose=0, callbacks=[tqdm_callback, early_stop])"
      ],
      "execution_count": null,
      "outputs": []
    },
    {
      "cell_type": "code",
      "metadata": {
        "id": "uMnhUSOIv4Fu",
        "colab_type": "code",
        "colab": {}
      },
      "source": [
        "plot_history(history2, 'categorical_accuracy', val=True)"
      ],
      "execution_count": null,
      "outputs": []
    },
    {
      "cell_type": "code",
      "metadata": {
        "id": "yEIlcFrPv9v-",
        "colab_type": "code",
        "colab": {}
      },
      "source": [
        "y_pred2 = np.argmax(regressor.predict(X_test_en), axis=-1)\n",
        "# Report di classificazione\n",
        "print(\"Report di classificazione modello:\")\n",
        "print(classification_report(y_test_en, le.inverse_transform(y_pred2)))"
      ],
      "execution_count": null,
      "outputs": []
    },
    {
      "cell_type": "code",
      "metadata": {
        "id": "si1A7JBrvkHP",
        "colab_type": "code",
        "colab": {}
      },
      "source": [
        "parameters = [sherpa.Discrete('lstm_unit',[20,100]),\n",
        "              sherpa.Discrete('hidden_unit',[8,126]),\n",
        "              sherpa.Ordinal(name='batch_size', range=[12,32,64])]\n",
        "\n",
        "alg = sherpa.algorithms.bayesian_optimization.GPyOpt(max_concurrent=1,\n",
        "                                         model_type='GP',\n",
        "                                         acquisition_type='EI',\n",
        "                                         max_num_trials=25)\n",
        "\n",
        "study = sherpa.Study(parameters=parameters,\n",
        "                     algorithm=alg,\n",
        "                     lower_is_better=True,\n",
        "                     disable_dashboard=True)\n",
        "\n",
        "def get_model_lstm_score(params, epochs=60):\n",
        "   initial = Input(shape=((X_train_en.shape[1],X_train_en.shape[2])))\n",
        "\n",
        "   OUTPUT_SIZE = 3\n",
        "\n",
        "   x1 = LSTM(int(params['lstm_unit']), activation='tanh', \n",
        "           return_sequences=True,\n",
        "           kernel_regularizer=regularizers.l1(0.001),\n",
        "           activity_regularizer=regularizers.l1(0.001))(initial)\n",
        "\n",
        "   x2 = LSTM(int(params['lstm_unit']), activation='tanh', \n",
        "           return_sequences=False,\n",
        "           kernel_regularizer=regularizers.l1(0.001),\n",
        "           activity_regularizer=regularizers.l1(0.001))(x1)\n",
        "   x3 = Dense(int(params[\"hidden_unit\"]), activation='relu')(x2)\n",
        "\n",
        "   x4 = Dense(OUTPUT_SIZE, activation='softmax')(x3)\n",
        "\n",
        "   model = Model(initial, x4)\n",
        "\n",
        "   model.compile(loss='categorical_crossentropy',\n",
        "                optimizer=optimizers.Adam(), \n",
        "                metrics=['categorical_accuracy'])\n",
        "\n",
        "   hist = model.fit(X_train_en, Y_train_en, validation_data=(X_val_en, Y_val_en),\n",
        "            batch_size=int(params[\"batch_size\"]), epochs=epochs,\n",
        "            verbose=0, callbacks=[study.keras_callback(trial, objective_name='val_loss'),tqdm_callback, early_stop]) #study.keras_callback(trial, objective_name='val_loss')\n",
        "    \n",
        "   return model, model.evaluate(X_val_en, Y_val_en)[0], hist\n",
        "\n",
        "best_score = 999999\n",
        "\n",
        "for trial in study:\n",
        "   start_time = time.time()\n",
        "    \n",
        "   model, score, hist = get_model_lstm_score(trial.parameters)\n",
        "\n",
        "   if score < best_score:\n",
        "     model.save(dir_drive_model + \"best_model\")\n",
        "     best_model   = model\n",
        "     best_score   = score\n",
        "     best_history = hist\n",
        "   else:\n",
        "     del model #free RAM\n",
        "     \n",
        "   study.finalize(trial)\n",
        "   if(trial.id % 10 == 0 or trial.id == 1):\n",
        "       print(\"Trial:\",trial.id, \"|| Best Score: \", best_score)\n",
        "   study.results.to_csv(dir_drive_model + \"AutoML.csv\")"
      ],
      "execution_count": null,
      "outputs": []
    },
    {
      "cell_type": "code",
      "metadata": {
        "id": "NiFdUEiyax8s",
        "colab_type": "code",
        "colab": {}
      },
      "source": [
        "best_model_1 = tf.keras.models.load_model(dir_drive_model + \"best_model\")\n",
        "results = pd.read_csv(dir_drive_model + \"AutoML.csv\")\n",
        "results = results[results[\"Status\"]==\"COMPLETED\"]"
      ],
      "execution_count": 14,
      "outputs": []
    },
    {
      "cell_type": "code",
      "metadata": {
        "id": "AExEvFVlbWBj",
        "colab_type": "code",
        "colab": {
          "base_uri": "https://localhost:8080/",
          "height": 336
        },
        "outputId": "87fcfe17-87fd-4d4d-acf9-2eb491724288"
      },
      "source": [
        "plt.figure(figsize=(15,5))\n",
        "best, = plt.plot(np.minimum.accumulate(np.array(results.Objective)),'*-')\n",
        "actual, = plt.plot(np.array(results.Objective),'*-')\n",
        "\n",
        "plt.legend([actual, best],\n",
        "           ['Calculated','Best Seen']) \n",
        "\n",
        "plt.xlabel('Iterations')\n",
        "plt.ylabel('Accuracy')\n",
        "plt.show()"
      ],
      "execution_count": 15,
      "outputs": [
        {
          "output_type": "display_data",
          "data": {
            "image/png": "[encoded data removed]",
            "text/plain": [
              "<Figure size 1080x360 with 1 Axes>"
            ]
          },
          "metadata": {
            "tags": [],
            "needs_background": "light"
          }
        }
      ]
    },
    {
      "cell_type": "code",
      "metadata": {
        "id": "IJLIVmjeeH-t",
        "colab_type": "code",
        "colab": {
          "base_uri": "https://localhost:8080/",
          "height": 208
        },
        "outputId": "b55f6dd3-24c8-4c70-dd3b-c6e822ff7af5"
      },
      "source": [
        "y_pred_best = np.argmax(best_model_1.predict(X_test_en), axis=-1)\n",
        "print(\"Report di classificazione modello:\")\n",
        "print(classification_report(y_test_en, le.inverse_transform(y_pred_best)))\n",
        "\n",
        "#confusion_matrix(y_test_en, le.inverse_transform(y_pred_best))"
      ],
      "execution_count": 26,
      "outputs": [
        {
          "output_type": "stream",
          "text": [
            "Report di classificazione modello:\n",
            "              precision    recall  f1-score   support\n",
            "\n",
            "       LIVIA       1.00      1.00      1.00        28\n",
            "       chris       1.00      1.00      1.00        11\n",
            "         rob       1.00      1.00      1.00        21\n",
            "\n",
            "    accuracy                           1.00        60\n",
            "   macro avg       1.00      1.00      1.00        60\n",
            "weighted avg       1.00      1.00      1.00        60\n",
            "\n"
          ],
          "name": "stdout"
        }
      ]
    },
    {
      "cell_type": "markdown",
      "metadata": {
        "id": "0amf99rCdUoz",
        "colab_type": "text"
      },
      "source": [
        "# TEST"
      ]
    },
    {
      "cell_type": "code",
      "metadata": {
        "id": "30RhEtoydXZu",
        "colab_type": "code",
        "colab": {}
      },
      "source": [
        "test = sd.rec(int(duration * rec_rate), samplerate=rec_rate, channels=1, blocking=True)\n",
        "wav.write('test.wav', rec_rate, test)"
      ],
      "execution_count": null,
      "outputs": []
    },
    {
      "cell_type": "code",
      "metadata": {
        "id": "lqhvD_Zbpxr-",
        "colab_type": "code",
        "colab": {}
      },
      "source": [
        "_, test = wav.read('test.wav')"
      ],
      "execution_count": 84,
      "outputs": []
    },
    {
      "cell_type": "code",
      "metadata": {
        "id": "Yvuw523TmRtf",
        "colab_type": "code",
        "colab": {}
      },
      "source": [
        "feature = extr_feat(test)\n",
        "feature = feature.reshape(1, feature.shape[0], feature.shape[1])"
      ],
      "execution_count": 91,
      "outputs": []
    },
    {
      "cell_type": "code",
      "metadata": {
        "id": "unanoQTddXv5",
        "colab_type": "code",
        "colab": {
          "base_uri": "https://localhost:8080/",
          "height": 34
        },
        "outputId": "b97557bb-4f94-43d6-e38f-940c2ebd6304"
      },
      "source": [
        "# feature = X_test_en[0].reshape(1, X_test_en.shape[1], X_test_en.shape[2]\n",
        "prob_test_audio = best_model_1.predict(feature)\n",
        "\n",
        "if max(prob_test_audio[0]) < 0.7:   \n",
        "    predizione = 'sconosciuto'  \n",
        "else:   \n",
        "    predizione = le.inverse_transform([np.argmax(prob_test_audio)])\n",
        "\n",
        "print(predizione)"
      ],
      "execution_count": 109,
      "outputs": [
        {
          "output_type": "stream",
          "text": [
            "['rob']\n"
          ],
          "name": "stdout"
        }
      ]
    },
    {
      "cell_type": "code",
      "metadata": {
        "id": "W9R67k7DuOXP",
        "colab_type": "code",
        "colab": {}
      },
      "source": [
        "dataset_name4 = 'combo_normalize'\n",
        "svm_estimator_cn = joblib.load(dir_drive+\"/model/%s.pkl\"%dataset_name4)\n",
        "svm_estimator_cn.predict(combo(test).reshape(1,-1))[0]"
      ],
      "execution_count": null,
      "outputs": []
    }
  ]
}